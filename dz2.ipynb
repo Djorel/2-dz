{
 "cells": [
  {
   "cell_type": "markdown",
   "metadata": {},
   "source": [
    "# Задача 1\n"
   ]
  },
  {
   "cell_type": "code",
   "execution_count": null,
   "metadata": {},
   "outputs": [],
   "source": [
    "phrase_1 = 'Насколько проще было бы писать программы, если бы не заказчики'\n",
    "phrase_2 = '640Кб должно хватить для любых задач. Билл Гейтс (по легенде)'\n",
    "if len (phrase_1) > len (phrase_2):\n",
    "    print ('Фраза 1 длиннее фразы 2')"
   ]
  },
  {
   "cell_type": "code",
   "execution_count": null,
   "metadata": {},
   "outputs": [],
   "source": [
    "phrase_1 = 'всего лишь забыл функцию'\n",
    "phrase_2 = 'Долго мучался с кодом, но у меня получилось'\n",
    "if len (phrase_1) < len (phrase_2):\n",
    "    print ('Фраза 2 длиннее фразы 1')"
   ]
  },
  {
   "cell_type": "code",
   "execution_count": null,
   "metadata": {},
   "outputs": [],
   "source": [
    "phrase_1 = 'Насколько проще было бы писать программы, если бы не заказчики'\n",
    "phrase_2 = 'Насколько проще было бы писать программы, если бы не заказчики'\n",
    "if (phrase_1 == phrase_2):\n",
    "    print ('Фразы равны')"
   ]
  },
  {
   "cell_type": "markdown",
   "metadata": {},
   "source": [
    "# Задача 2"
   ]
  },
  {
   "cell_type": "code",
   "execution_count": null,
   "metadata": {},
   "outputs": [],
   "source": [
    "year = 2024\n",
    "if year % 4 == 0:\n",
    "    print ('Високосный год')\n",
    "else:\n",
    "    print ('Обычный год')"
   ]
  },
  {
   "cell_type": "markdown",
   "metadata": {},
   "source": [
    "# Задача 3\n",
    "\n"
   ]
  },
  {
   "cell_type": "code",
   "execution_count": null,
   "metadata": {},
   "outputs": [],
   "source": [
    "print ('Введите день рождения')\n",
    "day = int (input (''))  \n",
    "print ('Введите месяц рождения')\n",
    "mount = input ('')\n",
    "if (day >= 21 and day <= 31 and mount == 'январь') or (day >= 1 and day <= 19 and mount == 'февраль'): \n",
    "    print ('Знак зодиака: Водолеи')\n",
    "elif (day >= 20 and day <= 29 and mount == 'февраль') or (day >= 1 and day <= 20 and mount == 'март'):\n",
    "    print ('Знак зодиака: Рыбы')\n",
    "elif (day >= 21 and day <= 31 and mount == 'март') or (day >= 1 and day <= 20 and mount == 'апрель'):\n",
    "    print ('Знак зодиака: Овены')\n",
    "elif (day >= 21 and day <= 30 and mount == 'апрель') or (day >= 1 and day <= 21 and mount == 'май'):\n",
    "    print ('Знак зодиака: Тельцы')\n",
    "elif (day >= 22 and day <= 30 and mount == 'май') or (day >= 1 and day <= 21 and mount == 'июнь'):\n",
    "    print ('Знак зодиака: Близнецы')\n",
    "elif (day >= 22 and day <= 30 and mount == 'июнь') or (day >= 1 and day <= 23 and mount == 'июль'):\n",
    "    print ('Знак зодиака: Раки')\n",
    "elif (day >= 24 and day <= 31 and mount == 'июль') or (day >= 1 and day <= 23 and mount == 'август'):\n",
    "    print ('Знак зодиака: Львы')\n",
    "elif (day >= 24 and day <= 31 and mount == 'август') or (day >= 1 and day <= 23 and mount == 'сентябрь'):\n",
    "    print ('Знак зодиака: Девы')\n",
    "elif (day >= 24 and day <= 30 and mount == 'сентябрь') or (day >= 1 and day <= 23 and mount == 'октябрь'):\n",
    "    print ('Знак зодиака: Весы')\n",
    "elif (day >= 24 and day <= 31 and mount == 'октябрь') or (day >= 1 and day <= 22 and mount == 'ноябрь'):\n",
    "    print ('Знак зодиака: Скорпионы') \n",
    "elif (day >= 23 and day <= 30 and mount == 'ноябрь') or (day >= 1 and day <= 21 and mount == 'декабрь'):\n",
    "    print ('Знак зодиака: Стрельцы') \n",
    "elif (day >= 22 and day <= 31 and mount == 'декабрь') or (day >= 1 and day <= 20 and mount == 'январь'):\n",
    "    print ('Знак зодиака: Козероги')\n",
    "else:\n",
    "    print ('Ошибка в воде значения')\n",
    "    \n",
    "                               "
   ]
  },
  {
   "cell_type": "markdown",
   "metadata": {},
   "source": [
    "# Задача 4"
   ]
  },
  {
   "cell_type": "code",
   "execution_count": 8,
   "metadata": {},
   "outputs": [
    {
     "name": "stdout",
     "output_type": "stream",
     "text": [
      "Введите ширину, в см\n",
      "56\n",
      "Введите длинну, в см\n",
      "67\n",
      "Введите высоту, в см\n",
      "87\n",
      "Стандартная коробка №3\n"
     ]
    }
   ],
   "source": [
    "print ('Введите ширину, в см')\n",
    "width = int (input (''))\n",
    "print ('Введите длинну, в см')\n",
    "length = int (input (''))\n",
    "print ('Введите высоту, в см')\n",
    "height = int (input (''))\n",
    "if (width < 15 and length < 15 and height < 15):\n",
    "    print ('Коробка №1')\n",
    "elif (width > 15 and length > 15 and height > 15) and (width < 50 and length < 50 and height < 50):\n",
    "    print ('Коробка №2')\n",
    "elif (length > 200):\n",
    "    print ('Упаковка для лыж')\n",
    "else:\n",
    "    print ('Стандартная коробка №3')  \n",
    "    "
   ]
  },
  {
   "cell_type": "markdown",
   "metadata": {},
   "source": [
    "# Задача 5 "
   ]
  },
  {
   "cell_type": "code",
   "execution_count": 11,
   "metadata": {},
   "outputs": [],
   "source": [
    "print ('Введите номер билета, 6 цифр')\n",
    "number = int (input (''))\n",
    "if "
   ]
  }
 ],
 "metadata": {
  "kernelspec": {
   "display_name": "Python 3",
   "language": "python",
   "name": "python3"
  },
  "language_info": {
   "codemirror_mode": {
    "name": "ipython",
    "version": 3
   },
   "file_extension": ".py",
   "mimetype": "text/x-python",
   "name": "python",
   "nbconvert_exporter": "python",
   "pygments_lexer": "ipython3",
   "version": "3.8.3"
  }
 },
 "nbformat": 4,
 "nbformat_minor": 4
}
